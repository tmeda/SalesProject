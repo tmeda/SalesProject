{
 "cells": [
  {
   "cell_type": "code",
   "execution_count": 1,
   "metadata": {},
   "outputs": [],
   "source": [
    "import pandas as pd\n",
    "from sklearn.linear_model import LinearRegression as LR\n",
    "from sklearn.linear_model import Lasso\n",
    "from sklearn.model_selection import train_test_split as tts\n",
    "\n",
    "def show_coeff(df,y,plt,al):\n",
    "    df=df[df.corr().columns]\n",
    "    x=df.drop(y,axis=1)\n",
    "    y=df[y]\n",
    "    lasso=Lasso(alpha=al)\n",
    "    coeffs=lasso.fit(x,y).coef_\n",
    "    plt.bar(x.columns,coeffs)\n",
    "    \n",
    "    \n",
    "def results(x,y):\n",
    "    sum_acc=0\n",
    "    for i in range(100):\n",
    "        x_tr,x_te,y_tr,y_te=tts(x,y,test_size=0.2)\n",
    "        model=LR().fit(x_tr,y_tr)\n",
    "        sum_acc=sum_acc+model.score(x_te,y_te)*100\n",
    "    print(\"On average, the model explains \"+str(sum_acc/100)[:5]+\"% of the variance in the data.\")"
   ]
  },
  {
   "cell_type": "code",
   "execution_count": null,
   "metadata": {},
   "outputs": [],
   "source": []
  }
 ],
 "metadata": {
  "kernelspec": {
   "display_name": "Python 2",
   "language": "python",
   "name": "python2"
  },
  "language_info": {
   "codemirror_mode": {
    "name": "ipython",
    "version": 2
   },
   "file_extension": ".py",
   "mimetype": "text/x-python",
   "name": "python",
   "nbconvert_exporter": "python",
   "pygments_lexer": "ipython2",
   "version": "2.7.15"
  }
 },
 "nbformat": 4,
 "nbformat_minor": 2
}
